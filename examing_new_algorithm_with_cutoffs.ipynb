{
 "cells": [
  {
   "cell_type": "markdown",
   "id": "35f03c86-5793-401f-bec8-24e72f8f1f39",
   "metadata": {},
   "source": [
    "# Examing New Algorithm Results"
   ]
  },
  {
   "cell_type": "code",
   "execution_count": 1,
   "id": "2c1772d8-cfa8-4c2d-b95c-868e82ea83cc",
   "metadata": {},
   "outputs": [],
   "source": [
    "import pandas as pd\n",
    "import json"
   ]
  },
  {
   "cell_type": "markdown",
   "id": "3e6f30d8-b5bd-41de-855b-3edd284ddf3e",
   "metadata": {},
   "source": [
    "### Define Functions for Analysis"
   ]
  },
  {
   "cell_type": "code",
   "execution_count": 97,
   "id": "e3253e69-09d1-47f3-ba5f-09bc02c2e448",
   "metadata": {},
   "outputs": [],
   "source": [
    "# functions\n",
    "\n",
    "def TotalStoryAnalysis(story_id, cc_index_in_file_values):\n",
    "    \n",
    "    '''\n",
    "    This functions runs a for loop to run an analysis for each cutoff value of the story. It adds the results to the saved_data list.\n",
    "    \n",
    "    Inputs: \n",
    "        story_id: Unique integer identifier of the desired story\n",
    "        cc_index_in_file_values: A list of values that indicates the index of the most representative vector representation of the story. There are as many values in this list as there are total cutoffs.\n",
    "    \n",
    "    '''\n",
    "    \n",
    "    cutoff_values = [10, 20, 30, 40, 50, 60, 70, 80, 90]\n",
    "    \n",
    "    for i in range(len(cutoff_values)): \n",
    "        cutoff = cutoff_values[i]\n",
    "        cc_index_in_file = cc_index_in_file_values[i]\n",
    "\n",
    "        precision, recall, fpr, f1 = SingleFileAnalysis(f'data/new_algorithm_files/story_{story_id}/story_{story_id}_cutoff_{cutoff}.json', story_id, cc_index_in_file)\n",
    "\n",
    "        row = {'story_id': story_id, 'cutoff_value': cutoff, 'precision': precision, 'recall': recall, 'fpr': fpr, 'f1': f1} \n",
    "        saved_data.append(row)\n",
    "\n",
    "def SingleFileAnalysis(file_path, story_id, cc_index_in_file):\n",
    "    \n",
    "    ''''\n",
    "    \n",
    "    \n",
    "    Inputs: \n",
    "        file_path: The path to the file for analysis\n",
    "        story_id: Unique integer number for the story\n",
    "        cc_index_in_file: This is the integer position for where the connected component that best represents the story is found in the new data\n",
    "        \n",
    "    Outputs:\n",
    "    \n",
    "    \n",
    "    '''\n",
    "    \n",
    "    story_data = loadJsonFile(file_path)\n",
    "    \n",
    "    exemplar_links = GetExamplarLinks(story_id)\n",
    "\n",
    "    story_links = story_data['story_vectors'][cc_index_in_file]['con_comps']\n",
    "    \n",
    "    tn = defineTrueNegatives(story_data, exemplar_links, cc_index_in_file)\n",
    "    \n",
    "    bot_graphs = getFormattedBotGraphs(story_links)\n",
    "    \n",
    "    tp, fp, fn, failed_bots = defineConfusionMatrix(bot_graphs, exemplar_links, want_failed_bots = True)\n",
    "    \n",
    "    precision, recall, fpr, f1 = getScores(tp, tn, fp, fn)\n",
    "    \n",
    "    return precision, recall, fpr, f1\n",
    "\n",
    "def loadJsonFile(file_path, encoding = 'UTF-8'):\n",
    "    '''\n",
    "    Function to load in the JSON data\n",
    "    \n",
    "    Inputs:\n",
    "        file_path: The path to the file\n",
    "        encoding: The desired encoding to load the file in\n",
    "        \n",
    "    returns:\n",
    "        story_data: The contents of the provided json file\n",
    "    \n",
    "    '''\n",
    "    \n",
    "    file = open(file_path, encoding = 'UTF-8')\n",
    "    story_data = json.load(file)\n",
    "    file.close()\n",
    "    \n",
    "    return story_data\n",
    "\n",
    "def GetExamplarLinks(story_id, file_path = 'data/exemplar_dataset.json'):\n",
    "    '''\n",
    "    This function loads in the exemplar dataset and returns the data for the given story by its ID\n",
    "    \n",
    "    Input:\n",
    "        story_id: The unique number given to the story to identify it\n",
    "        file_path: Optional input that points to the exemplar data set file\n",
    "        \n",
    "    Returns:\n",
    "        exemplar_links: List of dictionary objects that each represent one connected component of the story. \n",
    "    '''\n",
    "    \n",
    "    file = open(file_path)\n",
    "    exemplar = json.load(file)\n",
    "    file.close()\n",
    "\n",
    "    exemplar_links = exemplar[story_id]['links']\n",
    "    \n",
    "    return exemplar_links\n",
    "\n",
    "def defineConfusionMatrix(bot_graphs, exemplar_links, want_failed_bots = False):\n",
    "    '''\n",
    "    Function to calculate the True Positive (tp), False Positive (fp), and False Negative (fn) values.\n",
    "    \n",
    "    inputs:\n",
    "        bot_graphs: A list of dictionaries that represent each graph. The ouput of getUniqueGraphs().\n",
    "        exemplar_links: A list of dictionaries that represent each graph. The ouput of getFormattedBotGraphs().\n",
    "    \n",
    "    returns: \n",
    "        tp: an integer for the true positives\n",
    "        fp: an integer for the false positives\n",
    "        fn: an integer for the false negatives\n",
    "        bot_failed_attempts: a list of dictionaries for each graph not found in the exemplar data set\n",
    "    \n",
    "    \n",
    "    '''\n",
    "    #creating a list of the links found in the exemplar dataset\n",
    "    exemplar_link_list = [i['graph_link'] for i in exemplar_links]\n",
    "    \n",
    "    # list to identify any failed attempts\n",
    "    bot_failed_attempts = [] \n",
    "    \n",
    "    # setting values for the true positives, false positives, and false negatives\n",
    "    tp = 0   \n",
    "    fp = 0 \n",
    "    fn = 0 \n",
    "    \n",
    "    \n",
    "    for graph in bot_graphs:\n",
    "        \n",
    "        # looking at each uri from the storygraphbot ouput and seeing that it is in the exemplar data set\n",
    "        if graph['graph_link'] in exemplar_link_list:\n",
    "            \n",
    "            # finding the index where the uri is found in the exemplar data set\n",
    "            idx = exemplar_link_list.index(graph['graph_link']) \n",
    "    \n",
    "            # checking that the degrees of the connected components match where the uri of each matched\n",
    "            # the degree of the storygraphbot output is rounded to 2 decimals because it is a long decimal while\n",
    "            # the exemplar is only 2 digits\n",
    "            \n",
    "            \n",
    "            if (round(graph['cc_degree'], 2)) == (exemplar_links[idx]['cc_degree']) and (graph['cc_index'] == (exemplar_links[idx]['cc_index'] - 1)): \n",
    "                \n",
    "                tp += 1\n",
    "\n",
    "            else:\n",
    "                \n",
    "                # adding to false postive when the storygraphbot output has the correct graph uri but the wrong connected component degree\n",
    "                fp += 1\n",
    "                bot_failed_attempts.append(graph)\n",
    "       \n",
    "        else:\n",
    "            # adding to the false positive when the storygraphbot ouput uri is not found in the exemplar\n",
    "            fp += 1\n",
    "            bot_failed_attempts.append(graph)\n",
    "    \n",
    "    # bot links is a link of uri's ouputed by the storygraphbot algoirthm\n",
    "    bot_links = [bot_graphs[i]['graph_link'] for i in range(len(bot_graphs))]\n",
    "    \n",
    "    #looking at each link in the exemplar links\n",
    "    for link in exemplar_link_list:\n",
    "        \n",
    "        if link not in bot_links:\n",
    "            \n",
    "            # adding to the false negative because a link in the exemplar is not found in the storygraphbot output\n",
    "            fn += 1\n",
    "            \n",
    "    if want_failed_bots == True:\n",
    "        \n",
    "        return tp, fp, fn, bot_failed_attempts\n",
    "    \n",
    "    else:\n",
    "        \n",
    "        return tp, fp, fn\n",
    "\n",
    "    \n",
    "def defineTrueNegatives(story_data, exemplar_links, cc_index_in_file):\n",
    "    '''\n",
    "    Inputs: \n",
    "        story_data: List of each vector in the JSON file that is produced from the loadJsonFile function \n",
    "        exemplar_links: \n",
    "        cc_index_in_file: The integer index that points to where the desired story is found in the JSON file \n",
    "    \n",
    "    Outputs:\n",
    "        tn: The number of true negatives\n",
    "    \n",
    "    '''\n",
    "    \n",
    "    tn = 0\n",
    "    \n",
    "    #creating a list of the links found in the exemplar dataset\n",
    "    exemplar_link_list = [i['graph_link'] for i in exemplar_links]\n",
    "    \n",
    "    non_story_data = story_data['story_vectors'][:cc_index_in_file] + story_data['story_vectors'][cc_index_in_file+1:]\n",
    "    \n",
    "    for story in non_story_data:\n",
    "        \n",
    "        bot_graphs = getFormattedBotGraphs(story['con_comps'])\n",
    "        \n",
    "        # want to add to TN when a connected component not included in the main story is not in the exemplar list\n",
    "        for graph in bot_graphs:\n",
    "            \n",
    "            if graph['graph_link'] not in exemplar_link_list:\n",
    "                \n",
    "                tn += 1\n",
    "            \n",
    "            else:\n",
    "                \n",
    "                # finding the index where the uri is found in the exemplar data set\n",
    "                idx = exemplar_link_list.index(graph['graph_link']) \n",
    "                \n",
    "                # adding to true negative when the graph does not have the same degree or index as the one found in the exemplar list\n",
    "                # this means it is different than the connected component in the exemplar and was correctly not added to the story \n",
    "                \n",
    "                if (round(graph['cc_degree'], 2)) != (exemplar_links[idx]['cc_degree']) or (graph['cc_index'] != (exemplar_links[idx]['cc_index'] - 1)): \n",
    "                \n",
    "                    tn += 1\n",
    "                    \n",
    "                \n",
    "    return tn\n",
    "\n",
    "def getFormattedBotGraphs(unique_graphs):\n",
    "    '''\n",
    "    A function that transforms the storygraph bot format to the exemplar format for direct comparison\n",
    "    \n",
    "    inputs:\n",
    "        unique_graphs: A list of dictionaries that each represent a graph in the storygraphbot format.\n",
    "        \n",
    "    outputs:\n",
    "        bot_graphs: A list of dictionaries that each represent a graph in the exemplar format.\n",
    "    '''\n",
    "    \n",
    "    # list to append the dictionary to\n",
    "    bot_graphs = []\n",
    "    \n",
    "    for graph in unique_graphs:\n",
    "        # creating a dictionary for the new formating\n",
    "        graph_dic = {'graph_link': '', 'cc_degree': '', 'cc_index': ''} \n",
    "        \n",
    "        # transforming the graph link from the internet archive format to the csu format\n",
    "        intermediate = (graph['graph_uri']\n",
    "                                   .replace('https://web.archive.org/storygraph/graphs/usa/', 'https://storygraph.cs.odu.edu/graphs/polar-media-consensus-graph/')\n",
    "                                   .replace('hist=144', 'hist=1440'))\n",
    "        graph_dic['graph_link'] = (intermediate\n",
    "                                   .replace(intermediate[65:87], '')\n",
    "                                   .replace('&cursor', '#cursor') + intermediate[65:87].replace('#t=', '&t='))\n",
    "\n",
    "        # storing the connected component degree\n",
    "        graph_dic['cc_degree'] = graph['avg_degree'] \n",
    "        \n",
    "        # storing the uri with the most edges in the connected component\n",
    "        graph_dic['cc_index'] = graph['index'] \n",
    "        \n",
    "        bot_graphs.append(graph_dic)\n",
    "        \n",
    "    return bot_graphs\n",
    "\n",
    "def getScores(tp, tn, fp, fn):\n",
    "    '''\n",
    "    tp = True Positive\n",
    "    tn = True Negative\n",
    "    fp = False Positive\n",
    "    fn = False Negatives\n",
    "    \n",
    "    return: percision, recall, f1-score\n",
    "    '''\n",
    "    # calculating the precision, recall, and f1-score\n",
    "    \n",
    "    precision = ((tp)/(tp + fp))\n",
    "    recall = ((tp)/(tp + fn))\n",
    "    fpr = ((fp) / (fp + tn))\n",
    "    \n",
    "    if (precision + recall) != 0:\n",
    "        f1 = 2 *((precision * recall) / (precision + recall))\n",
    "    else:\n",
    "        f1 = 0\n",
    "    \n",
    "    return precision, recall, fpr, f1\n",
    "\n",
    "def findCCIndexInFile(file_path):\n",
    "    \n",
    "    '''\n",
    "    \n",
    "    A function that is used to print the titles for each index in the JSON file from the new algorithm\n",
    "    \n",
    "    Input:\n",
    "        file_path: Path to the JSON file\n",
    "    '''\n",
    "    \n",
    "    file = loadJsonFile(file_path)\n",
    "    for i in range(len(file['story_vectors'])):\n",
    "        print(i)\n",
    "        print(file['story_vectors'][i]['titles'])"
   ]
  },
  {
   "cell_type": "markdown",
   "id": "ea0ff9a1-3d89-4cef-ad71-30a6a5ffdcb4",
   "metadata": {},
   "source": [
    "# Analysis Description"
   ]
  },
  {
   "cell_type": "markdown",
   "id": "4fda8a81-51b4-45a4-9382-8cbc213efc46",
   "metadata": {},
   "source": [
    "For each story, there are a variety of cuttoff values to analyze. These cutoff values are the percentage of similiarity between the two vectors for them to be linked. Those values start at 10% and go to 90% in increments of 10%. These values are used in their decimal representation (i.e. 10% is 0.10). \n",
    "\n",
    "I cannot use a loop because there is no pattern for where the representative connected component will be in the file. This means I have to go into each file for each cuttoff and find the connected component that best represents the story we are interested in.\n",
    "\n",
    "For each cuttoff, I went into the file and looked at the story_vectors tab. I then looked at the titles for each to see which one was the most similar to the given story. "
   ]
  },
  {
   "cell_type": "code",
   "execution_count": 76,
   "id": "d229c933-58de-423c-8575-3d1da8b1f6a6",
   "metadata": {},
   "outputs": [],
   "source": [
    "## Create Variable to Save the Data\n",
    "saved_data = []\n",
    "\n",
    "# Setup the cutoff values to cycle through the files and pair with the indices\n",
    "cutoff_values = [10, 20, 30, 40, 50, 60, 70, 80, 90]"
   ]
  },
  {
   "cell_type": "markdown",
   "id": "b73ee5ef-81dc-422e-b607-e39c6891be07",
   "metadata": {},
   "source": [
    "## Story 0: Kim/Trump Summit"
   ]
  },
  {
   "cell_type": "code",
   "execution_count": 80,
   "id": "bc096429-30e1-46d0-bafa-fda130153953",
   "metadata": {
    "tags": []
   },
   "outputs": [],
   "source": [
    "cc_index_in_file_values = [0, 0, 0, 0, 0, 0, 0, 0, 0]\n",
    "TotalStoryAnalysis(0, cc_index_in_file_values)"
   ]
  },
  {
   "cell_type": "markdown",
   "id": "0a625f6a-c3a8-4dea-a887-56532bb33ba2",
   "metadata": {},
   "source": [
    "## Story 1: Senate 2 year 2018 Spending Deal"
   ]
  },
  {
   "cell_type": "code",
   "execution_count": 82,
   "id": "b3f7f181-3363-4672-af49-7086b4369dbc",
   "metadata": {},
   "outputs": [],
   "source": [
    "cc_index_in_file_values = [0, 0, 0, 0, 0, 1, 1, 62, 165]\n",
    "TotalStoryAnalysis(1, cc_index_in_file_values)\n",
    "\n",
    "# weird value for cutoff of 90"
   ]
  },
  {
   "cell_type": "markdown",
   "id": "a2ee8adc-be50-4cb3-b1f5-a048ad6aa506",
   "metadata": {},
   "source": [
    "## Story 2: Scott Pruitt Resigns as EPA Chief"
   ]
  },
  {
   "cell_type": "code",
   "execution_count": 84,
   "id": "aa860509-0f79-4d80-91e1-7e5801664e52",
   "metadata": {},
   "outputs": [],
   "source": [
    "cc_index_in_file_values = [0, 0, 0, 0, 0, 0, 42, 57, 83]\n",
    "TotalStoryAnalysis(2, cc_index_in_file_values)"
   ]
  },
  {
   "cell_type": "markdown",
   "id": "94c31f81-a34c-4140-8066-41da882a2871",
   "metadata": {},
   "source": [
    "## Story 3: Pittsburgh Synagogue Shooting"
   ]
  },
  {
   "cell_type": "code",
   "execution_count": 85,
   "id": "6ed2c01b-d48a-42d5-ac8a-382c4c5155cb",
   "metadata": {},
   "outputs": [],
   "source": [
    "cc_index_in_file_values = [0, 0, 0, 0, 0, 0, 0, 19, 23]\n",
    "TotalStoryAnalysis(3, cc_index_in_file_values)"
   ]
  },
  {
   "cell_type": "markdown",
   "id": "94dcb0e4-3e80-45d2-b6dd-1a163e2e05fb",
   "metadata": {},
   "source": [
    "## Story 4: Senate Votes to End Support for Yemen War"
   ]
  },
  {
   "cell_type": "code",
   "execution_count": 86,
   "id": "efc7b2df-4614-47b8-aa1d-2bc1dee720c2",
   "metadata": {},
   "outputs": [],
   "source": [
    "cc_index_in_file_values = [0, 0, 0, 0, 1, 2, 2, 7, 104]\n",
    "TotalStoryAnalysis(4, cc_index_in_file_values)"
   ]
  },
  {
   "cell_type": "markdown",
   "id": "35646fc0-ef43-44a8-8c20-483fc6a81903",
   "metadata": {},
   "source": [
    "## Story 5: George Bush Dies at 94"
   ]
  },
  {
   "cell_type": "code",
   "execution_count": 87,
   "id": "154ce2ae-7758-4b0a-935d-9fe19e08710c",
   "metadata": {},
   "outputs": [],
   "source": [
    "cc_index_in_file_values = [0, 0, 0, 0, 2, 2, 2, 2, 11]\n",
    "TotalStoryAnalysis(5, cc_index_in_file_values)"
   ]
  },
  {
   "cell_type": "markdown",
   "id": "50410dd0-f3e2-417b-99a4-d6ab8c5336d7",
   "metadata": {},
   "source": [
    "## Story 8: Aurora Illinois Shooting"
   ]
  },
  {
   "cell_type": "code",
   "execution_count": 88,
   "id": "5ef20a12-7337-4e8d-bcd4-a666918d2654",
   "metadata": {},
   "outputs": [],
   "source": [
    "cc_index_in_file_values = [0, 0, 0, 0, 0, 0, 0, 0, 0]\n",
    "TotalStoryAnalysis(8, cc_index_in_file_values)"
   ]
  },
  {
   "cell_type": "markdown",
   "id": "62aecb58-7704-4b82-ba98-fff6e3983fbc",
   "metadata": {},
   "source": [
    "## Story 9: AOC Town Hall Green New Deal"
   ]
  },
  {
   "cell_type": "code",
   "execution_count": 89,
   "id": "9b794d14-7cac-4ab3-999c-68e9bd772a01",
   "metadata": {},
   "outputs": [],
   "source": [
    "cc_index_in_file_values = [0, 0, 0, 0, 0, 0, 1, 1, 2]\n",
    "TotalStoryAnalysis(9, cc_index_in_file_values)"
   ]
  },
  {
   "cell_type": "markdown",
   "id": "c4500df7-3e67-474c-bf1a-d2d26a8d28e6",
   "metadata": {},
   "source": [
    "## Story 11: John Lewis Has Pancreatic Cancer"
   ]
  },
  {
   "cell_type": "code",
   "execution_count": 90,
   "id": "456f4efb-c254-4563-bf80-8fff1f26fe72",
   "metadata": {},
   "outputs": [],
   "source": [
    "cc_index_in_file_values = [0, 0, 0, 0, 13, 16, 24, 29, 49]\n",
    "TotalStoryAnalysis(11, cc_index_in_file_values)"
   ]
  },
  {
   "cell_type": "markdown",
   "id": "40a745d8-c397-45fe-8c56-4910e5e73663",
   "metadata": {},
   "source": [
    "## Story 16: Trump Signs Covid Relief Package"
   ]
  },
  {
   "cell_type": "code",
   "execution_count": 91,
   "id": "3ace3eef-3f4e-4bcc-9b26-3662b81ebbd6",
   "metadata": {},
   "outputs": [],
   "source": [
    "cc_index_in_file_values = [0, 0, 0, 1, 1, 1, 1, 1, 1]\n",
    "TotalStoryAnalysis(16, cc_index_in_file_values)"
   ]
  },
  {
   "cell_type": "markdown",
   "id": "c7c4134c-4581-4b99-b871-72bc4e069d0e",
   "metadata": {},
   "source": [
    "## Story 17: John Lewis Dies at 80"
   ]
  },
  {
   "cell_type": "code",
   "execution_count": 92,
   "id": "4bff6745-4831-4522-87b0-1bda3ea7ff0a",
   "metadata": {},
   "outputs": [],
   "source": [
    "cc_index_in_file_values = [0, 0, 0, 0, 0, 3, 3, 3, 3]\n",
    "TotalStoryAnalysis(17, cc_index_in_file_values)"
   ]
  },
  {
   "cell_type": "markdown",
   "id": "15ea7ee8-bf9f-4f79-bf64-85e175a726db",
   "metadata": {},
   "source": [
    "## Story 19: ASAP Rocky Found Guilty in Sweeden"
   ]
  },
  {
   "cell_type": "code",
   "execution_count": 93,
   "id": "52a9066b-cf39-4750-b0e6-ee809d2a6667",
   "metadata": {},
   "outputs": [],
   "source": [
    "cc_index_in_file_values = [0, 0, 0, 0, 0, 0, 0, 26, 56]\n",
    "TotalStoryAnalysis(19, cc_index_in_file_values)"
   ]
  },
  {
   "cell_type": "code",
   "execution_count": 95,
   "id": "144dc949-7857-4e3a-adc0-f408ad5802bf",
   "metadata": {},
   "outputs": [],
   "source": [
    "import csv"
   ]
  },
  {
   "cell_type": "code",
   "execution_count": 96,
   "id": "6734eeb6-f8ef-481b-8c9e-c8ebe68b501a",
   "metadata": {},
   "outputs": [],
   "source": [
    "file = open('new_algorithm_cutoff_results_with_fpr.csv', 'w')\n",
    "writer = csv.writer(file)\n",
    "writer.writerow(['story_id', 'cutoff_value', 'precision', 'recall', 'fpr', 'f1'])\n",
    "\n",
    "for dictionary in saved_data:\n",
    "    writer.writerow(dictionary.values())\n",
    "    \n",
    "file.close()"
   ]
  },
  {
   "cell_type": "markdown",
   "id": "0a9876cc-79b3-4c6a-bb1e-a9a07cf38fb9",
   "metadata": {},
   "source": [
    "# Graphing The Results"
   ]
  },
  {
   "cell_type": "code",
   "execution_count": 99,
   "id": "d854f271-011c-49d1-bcf1-073ca96ebda0",
   "metadata": {},
   "outputs": [],
   "source": [
    "from plotnine import *"
   ]
  },
  {
   "cell_type": "code",
   "execution_count": 101,
   "id": "3810975e-9d8d-471e-aa9a-a52e299229dd",
   "metadata": {},
   "outputs": [],
   "source": [
    "results = pd.read_csv('new_algorithm_cutoff_results_with_fpr.csv')"
   ]
  },
  {
   "cell_type": "code",
   "execution_count": 102,
   "id": "f114f20c-bdb7-4af7-8ef0-35b840b70b38",
   "metadata": {},
   "outputs": [
    {
     "data": {
      "text/html": [
       "<div>\n",
       "<style scoped>\n",
       "    .dataframe tbody tr th:only-of-type {\n",
       "        vertical-align: middle;\n",
       "    }\n",
       "\n",
       "    .dataframe tbody tr th {\n",
       "        vertical-align: top;\n",
       "    }\n",
       "\n",
       "    .dataframe thead th {\n",
       "        text-align: right;\n",
       "    }\n",
       "</style>\n",
       "<table border=\"1\" class=\"dataframe\">\n",
       "  <thead>\n",
       "    <tr style=\"text-align: right;\">\n",
       "      <th></th>\n",
       "      <th>story_id</th>\n",
       "      <th>cutoff_value</th>\n",
       "      <th>precision</th>\n",
       "      <th>recall</th>\n",
       "      <th>fpr</th>\n",
       "      <th>f1</th>\n",
       "    </tr>\n",
       "  </thead>\n",
       "  <tbody>\n",
       "    <tr>\n",
       "      <th>0</th>\n",
       "      <td>0</td>\n",
       "      <td>10</td>\n",
       "      <td>0.069867</td>\n",
       "      <td>1.0</td>\n",
       "      <td>0.999079</td>\n",
       "      <td>0.130609</td>\n",
       "    </tr>\n",
       "    <tr>\n",
       "      <th>1</th>\n",
       "      <td>0</td>\n",
       "      <td>20</td>\n",
       "      <td>0.072833</td>\n",
       "      <td>1.0</td>\n",
       "      <td>0.955341</td>\n",
       "      <td>0.135777</td>\n",
       "    </tr>\n",
       "    <tr>\n",
       "      <th>2</th>\n",
       "      <td>0</td>\n",
       "      <td>30</td>\n",
       "      <td>0.073589</td>\n",
       "      <td>1.0</td>\n",
       "      <td>0.944751</td>\n",
       "      <td>0.137090</td>\n",
       "    </tr>\n",
       "    <tr>\n",
       "      <th>3</th>\n",
       "      <td>0</td>\n",
       "      <td>40</td>\n",
       "      <td>0.078441</td>\n",
       "      <td>1.0</td>\n",
       "      <td>0.881676</td>\n",
       "      <td>0.145471</td>\n",
       "    </tr>\n",
       "    <tr>\n",
       "      <th>4</th>\n",
       "      <td>0</td>\n",
       "      <td>50</td>\n",
       "      <td>0.107520</td>\n",
       "      <td>1.0</td>\n",
       "      <td>0.622928</td>\n",
       "      <td>0.194163</td>\n",
       "    </tr>\n",
       "  </tbody>\n",
       "</table>\n",
       "</div>"
      ],
      "text/plain": [
       "   story_id  cutoff_value  precision  recall       fpr        f1\n",
       "0         0            10   0.069867     1.0  0.999079  0.130609\n",
       "1         0            20   0.072833     1.0  0.955341  0.135777\n",
       "2         0            30   0.073589     1.0  0.944751  0.137090\n",
       "3         0            40   0.078441     1.0  0.881676  0.145471\n",
       "4         0            50   0.107520     1.0  0.622928  0.194163"
      ]
     },
     "execution_count": 102,
     "metadata": {},
     "output_type": "execute_result"
    }
   ],
   "source": [
    "results.head()"
   ]
  },
  {
   "cell_type": "code",
   "execution_count": null,
   "id": "70b621ea-ae6c-45db-ba04-b5cfd6e342ac",
   "metadata": {
    "tags": []
   },
   "outputs": [],
   "source": [
    "## Generating the graphs for the f1 scores\n",
    "\n",
    "story_ids = results['story_id'].unique()\n",
    "for story_id in story_ids:\n",
    "    idx = results['story_id'] == story_id\n",
    "    data_subset = results[idx]\n",
    "    p = (ggplot(data_subset, aes('cutoff_value', 'f1')) + geom_point() + labs(x = 'Cutoff Value', y = 'F1 Score', title = f'Story {story_id}: F1 Scores') + \n",
    "         scale_x_continuous(breaks = [0, 10, 20, 30, 40, 50, 60, 70, 80, 90]))\n",
    "    p.save(f'images/f1_plots/story_{story_id}_f1_cutoff_plot.png')"
   ]
  },
  {
   "cell_type": "code",
   "execution_count": null,
   "id": "c388b3ef-5fa2-43f0-9525-6a1419b53c33",
   "metadata": {
    "tags": []
   },
   "outputs": [],
   "source": [
    "## Generating the ROC graph\n",
    "\n",
    "story_ids = results['story_id'].unique()\n",
    "for story_id in story_ids:\n",
    "    idx = results['story_id'] == story_id\n",
    "    data_subset = results[idx]\n",
    "    p = (ggplot(data_subset, aes('fpr', 'recall')) + geom_point() + \n",
    "         labs(x = 'False Positive Rate', y = 'True Positive Rate (Recall)', title = f'Story {story_id}: ROC Curve') +\n",
    "        scale_x_continuous(breaks = [0, 0.10, 0.20, 0.30, 0.40, 0.50, 0.60, 0.70, 0.80, 0.90, 1]) + xlim(0, 1) +\n",
    "        scale_y_continuous(breaks = [0, 0.10, 0.20, 0.30, 0.40, 0.50, 0.60, 0.70, 0.80, 0.90, 1]) + ylim(0,1))\n",
    "    p.save(f'images/roc_plots/story_{story_id}_roc_curve_plot.png')"
   ]
  },
  {
   "cell_type": "markdown",
   "id": "4aee98fb-07ab-43db-b2f6-c94efc59716e",
   "metadata": {},
   "source": [
    "## Calculating AUC Values"
   ]
  },
  {
   "cell_type": "code",
   "execution_count": 106,
   "id": "5f3433d5-33ae-4682-9fe5-c836cda7cf30",
   "metadata": {},
   "outputs": [],
   "source": [
    "from sklearn import metrics"
   ]
  },
  {
   "cell_type": "code",
   "execution_count": 114,
   "id": "f8bf95c0-d3e1-4752-94d0-ed35cdd21a79",
   "metadata": {},
   "outputs": [],
   "source": [
    "story_aucs = []\n",
    "for story_id in story_ids:\n",
    "    idx = results['story_id'] == story_id\n",
    "    data_subset = results[idx]\n",
    "    \n",
    "    fpr = data_subset['fpr']\n",
    "    tpr = data_subset['recall']\n",
    "    \n",
    "    auc = metrics.auc(fpr, tpr)\n",
    "    \n",
    "    result = {'story_id': story_id, 'auc': auc}\n",
    "    story_aucs.append(result)"
   ]
  },
  {
   "cell_type": "code",
   "execution_count": 115,
   "id": "764d8d39-5c63-4d10-858c-e8f9a6dbf566",
   "metadata": {},
   "outputs": [
    {
     "data": {
      "text/plain": [
       "[{'story_id': 0, 'auc': 0.9254143646408839},\n",
       " {'story_id': 1, 'auc': 0.9442001099505223},\n",
       " {'story_id': 2, 'auc': 0.9966620932010823},\n",
       " {'story_id': 3, 'auc': 0.9923944892206297},\n",
       " {'story_id': 4, 'auc': 0.9749873900516143},\n",
       " {'story_id': 5, 'auc': 0.9921353035926885},\n",
       " {'story_id': 8, 'auc': 0.9787450569899977},\n",
       " {'story_id': 9, 'auc': 0.7500304484353557},\n",
       " {'story_id': 11, 'auc': 0.9988731310466141},\n",
       " {'story_id': 16, 'auc': 0.7972152885017063},\n",
       " {'story_id': 17, 'auc': 0.9802011687206591},\n",
       " {'story_id': 19, 'auc': 0.9961977186311787}]"
      ]
     },
     "execution_count": 115,
     "metadata": {},
     "output_type": "execute_result"
    }
   ],
   "source": [
    "story_aucs"
   ]
  },
  {
   "cell_type": "code",
   "execution_count": 123,
   "id": "092518ad-2186-4c50-9331-857fb9ca9d36",
   "metadata": {},
   "outputs": [],
   "source": [
    "file = open('new_algorithm_auc_values.csv', 'w')\n",
    "writer = csv.writer(file)\n",
    "writer.writerow(['story_id', 'auc'])\n",
    "\n",
    "for dictionary in story_aucs:\n",
    "    writer.writerow(dictionary.values())\n",
    "    \n",
    "file.close()"
   ]
  }
 ],
 "metadata": {
  "kernelspec": {
   "display_name": "Python 3 (ipykernel)",
   "language": "python",
   "name": "python3"
  },
  "language_info": {
   "codemirror_mode": {
    "name": "ipython",
    "version": 3
   },
   "file_extension": ".py",
   "mimetype": "text/x-python",
   "name": "python",
   "nbconvert_exporter": "python",
   "pygments_lexer": "ipython3",
   "version": "3.10.9"
  }
 },
 "nbformat": 4,
 "nbformat_minor": 5
}
