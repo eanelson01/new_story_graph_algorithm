{
 "cells": [
  {
   "cell_type": "code",
   "execution_count": 2,
   "metadata": {},
   "outputs": [],
   "source": [
    "import json\n",
    "import pandas as pd"
   ]
  },
  {
   "cell_type": "code",
   "execution_count": 134,
   "metadata": {},
   "outputs": [],
   "source": [
    "# functions\n",
    "\n",
    "def defineConfusionMatrix(bot_graphs, exemplar_links, want_failed_bots = False):\n",
    "    '''\n",
    "    Function to calculate the True Positive (tp), False Positive (fp), and False Negative (fn) values.\n",
    "    \n",
    "    inputs:\n",
    "        bot_graphs: A list of dictionaries that represent each graph. The ouput of getUniqueGraphs().\n",
    "        exemplar_links: A list of dictionaries that represent each graph. The ouput of getFormattedBotGraphs().\n",
    "    \n",
    "    returns: \n",
    "        tp: an integer for the true positives\n",
    "        fp: an integer for the false positives\n",
    "        fn: an integer for the false negatives\n",
    "        bot_failed_attempts: a list of dictionaries for each graph not found in the exemplar data set\n",
    "    \n",
    "    \n",
    "    '''\n",
    "    #creating a list of the links found in the exemplar dataset\n",
    "    exemplar_link_list = [i['graph_link'] for i in exemplar_links]\n",
    "    \n",
    "    # list to identify any failed attempts\n",
    "    bot_failed_attempts = [] \n",
    "    \n",
    "    # setting values for the true positives, false positives, and false negatives\n",
    "    tp = 0   \n",
    "    fp = 0 \n",
    "    fn = 0 \n",
    "    \n",
    "    \n",
    "    for graph in bot_graphs:\n",
    "        \n",
    "        # looking at each uri from the storygraphbot ouput and seeing that it is in the exemplar data set\n",
    "        if graph['graph_link'] in exemplar_link_list:\n",
    "            \n",
    "            # finding the index where the uri is found in the exemplar data set\n",
    "            idx = exemplar_link_list.index(graph['graph_link']) \n",
    "    \n",
    "            # checking that the degrees of the connected components match where the uri of each matched\n",
    "            # the degree of the storygraphbot output is rounded to 2 decimals because it is a long decimal while\n",
    "            # the exemplar is only 2 digits\n",
    "            \n",
    "            \n",
    "            if (round(graph['cc_degree'], 2)) == (exemplar_links[idx]['cc_degree']) and (graph['cc_index'] == (exemplar_links[idx]['cc_index'] - 1)): \n",
    "                \n",
    "                tp += 1\n",
    "\n",
    "            else:\n",
    "                \n",
    "                # adding to false postive when the storygraphbot output has the correct graph uri but the wrong connected component degree\n",
    "                fp += 1\n",
    "                bot_failed_attempts.append(graph)\n",
    "       \n",
    "        else:\n",
    "            # adding to the false positive when the storygraphbot ouput uri is not found in the exemplar\n",
    "            fp += 1\n",
    "            bot_failed_attempts.append(graph)\n",
    "    \n",
    "    # bot links is a link of uri's ouputed by the storygraphbot algoirthm\n",
    "    bot_links = [bot_graphs[i]['graph_link'] for i in range(len(bot_graphs))]\n",
    "    \n",
    "    #looking at each link in the exemplar links\n",
    "    for link in exemplar_link_list:\n",
    "        \n",
    "        if link not in bot_links:\n",
    "            # adding to the false negative because a link in the exemplar is not found in the storygraphbot output\n",
    "            fn += 1\n",
    "            \n",
    "    if want_failed_bots == True:\n",
    "        return tp, fp, fn, bot_failed_attempts\n",
    "    else:\n",
    "        return tp, fp, fn\n",
    "\n",
    "\n",
    "def getFormattedBotGraphs(unique_graphs):\n",
    "    '''\n",
    "    A function that transforms the storygraph bot format to the exemplar format for direct comparison\n",
    "    \n",
    "    inputs:\n",
    "        unique_graphs: A list of dictionaries that each represent a graph in the storygraphbot format.\n",
    "        \n",
    "    outputs:\n",
    "        bot_graphs: A list of dictionaries that each represent a graph in the exemplar format.\n",
    "    '''\n",
    "    \n",
    "    # list to append the dictionary to\n",
    "    bot_graphs = []\n",
    "    \n",
    "    for graph in unique_graphs:\n",
    "        # creating a dictionary for the new formating\n",
    "        graph_dic = {'graph_link': '', 'cc_degree': '', 'cc_index': ''} \n",
    "        \n",
    "        # transforming the graph link from the internet archive format to the csu format\n",
    "        intermediate = (graph['graph_uri']\n",
    "                                   .replace('https://web.archive.org/storygraph/graphs/usa/', 'https://storygraph.cs.odu.edu/graphs/polar-media-consensus-graph/')\n",
    "                                   .replace('hist=144', 'hist=1440'))\n",
    "        graph_dic['graph_link'] = (intermediate\n",
    "                                   .replace(intermediate[65:87], '')\n",
    "                                   .replace('&cursor', '#cursor') + intermediate[65:87].replace('#t=', '&t='))\n",
    "\n",
    "        # storing the connected component degree\n",
    "        graph_dic['cc_degree'] = graph['avg_degree'] \n",
    "        \n",
    "        # storing the uri with the most edges in the connected component\n",
    "        graph_dic['cc_index'] = graph['index'] \n",
    "        \n",
    "        bot_graphs.append(graph_dic)\n",
    "        \n",
    "    return bot_graphs\n",
    "\n",
    "def getScores(tp, fp, fn):\n",
    "    '''\n",
    "    tp = True Positive\n",
    "    fp = False Positive\n",
    "    fn = False Negatives\n",
    "    \n",
    "    return: percision, recall, f1-score\n",
    "    '''\n",
    "    # calculating the precision, recall, and f1-score\n",
    "    \n",
    "    precision = ((tp)/(tp + fp))\n",
    "    recall = ((tp)/(tp+fn))\n",
    "    f1 = 2 *((precision * recall) / (precision + recall))\n",
    "    return precision, recall, f1"
   ]
  },
  {
   "cell_type": "markdown",
   "metadata": {},
   "source": [
    "# Testing The New Method\n",
    "\n",
    "## Story 1: Spending Deal"
   ]
  },
  {
   "cell_type": "code",
   "execution_count": 167,
   "metadata": {},
   "outputs": [],
   "source": [
    "# examining story 1\n",
    "f = open('new_algorithm/data/65/story_1/story_1_test_pt_1.json', encoding = 'UTF-8')\n",
    "story_1_1 = json.load(f)\n",
    "f.close()\n",
    "\n",
    "f = open('new_algorithm/data/65/story_1/story_1_test_pt_2.json', encoding = 'UTF-8')\n",
    "story_1_2 = json.load(f)\n",
    "f.close()\n",
    "\n",
    "#load exemplar\n",
    "f = open('data/exemplar_dataset.json')\n",
    "exemplar = json.load(f)\n",
    "f.close()\n",
    "\n",
    "exemplar_links = exemplar[1]['links']"
   ]
  },
  {
   "cell_type": "code",
   "execution_count": 168,
   "metadata": {},
   "outputs": [],
   "source": [
    "story_1_cc = story_1_1['story_vectors'][1]['con_comps'] + story_1_2['story_vectors'][0]['con_comps']"
   ]
  },
  {
   "cell_type": "code",
   "execution_count": 169,
   "metadata": {},
   "outputs": [],
   "source": [
    "bot_graphs = getFormattedBotGraphs(story_1_cc)"
   ]
  },
  {
   "cell_type": "code",
   "execution_count": 170,
   "metadata": {},
   "outputs": [],
   "source": [
    "tp, fp, fn, failed_bots = defineConfusionMatrix(bot_graphs, exemplar_links, want_failed_bots = True)"
   ]
  },
  {
   "cell_type": "code",
   "execution_count": 171,
   "metadata": {},
   "outputs": [],
   "source": [
    "precision, recall, f1 = getScores(tp, fp, fn)"
   ]
  },
  {
   "cell_type": "code",
   "execution_count": 172,
   "metadata": {},
   "outputs": [],
   "source": [
    "saved_data = []"
   ]
  },
  {
   "cell_type": "code",
   "execution_count": 173,
   "metadata": {},
   "outputs": [],
   "source": [
    "story_dic = {'story_index': 1, 'precision': precision, 'recall': recall, 'f1': f1}\n",
    "saved_data.append(story_dic)"
   ]
  },
  {
   "cell_type": "code",
   "execution_count": 174,
   "metadata": {},
   "outputs": [
    {
     "data": {
      "text/plain": [
       "{'story_index': 1,\n",
       " 'precision': 0.09919028340080972,\n",
       " 'recall': 1.0,\n",
       " 'f1': 0.18047882136279925}"
      ]
     },
     "execution_count": 174,
     "metadata": {},
     "output_type": "execute_result"
    }
   ],
   "source": [
    "story_dic"
   ]
  },
  {
   "cell_type": "markdown",
   "metadata": {},
   "source": [
    "## Story 2: Scott Pruit"
   ]
  },
  {
   "cell_type": "code",
   "execution_count": 175,
   "metadata": {},
   "outputs": [],
   "source": [
    "# examining story 2\n",
    "f = open('new_algorithm/data/65/story_2/story_2_pt_1.json', encoding = 'UTF-8')\n",
    "story_2_1 = json.load(f)\n",
    "f.close()\n",
    "\n",
    "f = open('new_algorithm/data/65/story_2/story_2_pt_2.json', encoding = 'UTF-8')\n",
    "story_2_2 = json.load(f)\n",
    "f.close()\n",
    "\n",
    "#load exemplar\n",
    "f = open('data/exemplar_dataset.json')\n",
    "exemplar = json.load(f)\n",
    "f.close()\n",
    "\n",
    "exemplar_links = exemplar[2]['links']"
   ]
  },
  {
   "cell_type": "code",
   "execution_count": 176,
   "metadata": {},
   "outputs": [],
   "source": [
    "story_2_cc = story_2_1['story_vectors'][0]['con_comps'] + story_2_2['story_vectors'][5]['con_comps']\n",
    "bot_graphs = getFormattedBotGraphs(story_2_cc)\n",
    "tp, fp, fn, failed_bots = defineConfusionMatrix(bot_graphs, exemplar_links, want_failed_bots = True)"
   ]
  },
  {
   "cell_type": "code",
   "execution_count": 177,
   "metadata": {},
   "outputs": [],
   "source": [
    "precision, recall, f1 = getScores(tp, fp, fn)\n",
    "\n",
    "story_dic = {'story_index': 2, 'precision': precision, 'recall': recall, 'f1': f1}\n",
    "saved_data.append(story_dic)"
   ]
  },
  {
   "cell_type": "code",
   "execution_count": 178,
   "metadata": {},
   "outputs": [
    {
     "data": {
      "text/plain": [
       "{'story_index': 2,\n",
       " 'precision': 0.14501510574018128,\n",
       " 'recall': 0.7868852459016393,\n",
       " 'f1': 0.2448979591836735}"
      ]
     },
     "execution_count": 178,
     "metadata": {},
     "output_type": "execute_result"
    }
   ],
   "source": [
    "story_dic"
   ]
  },
  {
   "cell_type": "markdown",
   "metadata": {},
   "source": [
    "## Story 3: Pittsburgh Synagogue"
   ]
  },
  {
   "cell_type": "code",
   "execution_count": 179,
   "metadata": {},
   "outputs": [],
   "source": [
    "# examining story 3\n",
    "f = open('new_algorithm/data/65/story_3/story_3_pt_1.json', encoding = 'UTF-8')\n",
    "story_3_1 = json.load(f)\n",
    "f.close()\n",
    "\n",
    "f = open('new_algorithm/data/65/story_3/story_3_pt_2.json', encoding = 'UTF-8')\n",
    "story_3_2 = json.load(f)\n",
    "f.close()\n",
    "\n",
    "f = open('new_algorithm/data/65/story_3/story_3_pt_3.json', encoding = 'UTF-8')\n",
    "story_3_3 = json.load(f)\n",
    "f.close()\n",
    "\n",
    "#load exemplar\n",
    "f = open('data/exemplar_dataset.json')\n",
    "exemplar = json.load(f)\n",
    "f.close()\n",
    "\n",
    "exemplar_links = exemplar[3]['links']"
   ]
  },
  {
   "cell_type": "code",
   "execution_count": 180,
   "metadata": {},
   "outputs": [],
   "source": [
    "story_3_cc = story_3_1['story_vectors'][0]['con_comps'] + story_3_2['story_vectors'][0]['con_comps'] + story_3_3['story_vectors'][0]['con_comps']\n",
    "bot_graphs = getFormattedBotGraphs(story_3_cc)\n",
    "tp, fp, fn, failed_bots = defineConfusionMatrix(bot_graphs, exemplar_links, want_failed_bots = True)"
   ]
  },
  {
   "cell_type": "code",
   "execution_count": 181,
   "metadata": {},
   "outputs": [],
   "source": [
    "precision, recall, f1 = getScores(tp, fp, fn)\n",
    "\n",
    "story_dic = {'story_index': 3, 'precision': precision, 'recall': recall, 'f1': f1}\n",
    "saved_data.append(story_dic)"
   ]
  },
  {
   "cell_type": "code",
   "execution_count": 182,
   "metadata": {},
   "outputs": [
    {
     "data": {
      "text/plain": [
       "{'story_index': 3,\n",
       " 'precision': 0.3670557717250324,\n",
       " 'recall': 1.0,\n",
       " 'f1': 0.5370018975332068}"
      ]
     },
     "execution_count": 182,
     "metadata": {},
     "output_type": "execute_result"
    }
   ],
   "source": [
    "story_dic"
   ]
  },
  {
   "cell_type": "markdown",
   "metadata": {},
   "source": [
    "## Story 4: Vote to End Yeman War"
   ]
  },
  {
   "cell_type": "code",
   "execution_count": 184,
   "metadata": {},
   "outputs": [],
   "source": [
    "# examining story 4\n",
    "f = open('new_algorithm/data/65/story_4/story_4_pt_1.json', encoding = 'UTF-8')\n",
    "story_4_1 = json.load(f)\n",
    "f.close()\n",
    "\n",
    "f = open('new_algorithm/data/65/story_4/story_4_pt_2.json', encoding = 'UTF-8')\n",
    "story_4_2 = json.load(f)\n",
    "f.close()\n",
    "\n",
    "#load exemplar\n",
    "f = open('data/exemplar_dataset.json')\n",
    "exemplar = json.load(f)\n",
    "f.close()\n",
    "\n",
    "exemplar_links = exemplar[4]['links']\n",
    "\n",
    "story_4_cc = story_4_1['story_vectors'][2]['con_comps'] + story_4_2['story_vectors'][5]['con_comps']\n",
    "bot_graphs = getFormattedBotGraphs(story_4_cc)\n",
    "tp, fp, fn, failed_bots = defineConfusionMatrix(bot_graphs, exemplar_links, want_failed_bots = True)\n",
    "\n",
    "precision, recall, f1 = getScores(tp, fp, fn)\n",
    "\n",
    "story_dic = {'story_index': 4, 'precision': precision, 'recall': recall, 'f1': f1}\n",
    "saved_data.append(story_dic)"
   ]
  },
  {
   "cell_type": "code",
   "execution_count": 185,
   "metadata": {},
   "outputs": [
    {
     "data": {
      "text/plain": [
       "{'story_index': 4,\n",
       " 'precision': 0.0913312693498452,\n",
       " 'recall': 1.0,\n",
       " 'f1': 0.16737588652482271}"
      ]
     },
     "execution_count": 185,
     "metadata": {},
     "output_type": "execute_result"
    }
   ],
   "source": [
    "story_dic"
   ]
  },
  {
   "cell_type": "markdown",
   "metadata": {},
   "source": [
    "## Story 5: George Bush Sr. Dies"
   ]
  },
  {
   "cell_type": "code",
   "execution_count": null,
   "metadata": {},
   "outputs": [],
   "source": [
    "# Can't Look at this one yet, there was a memory error on the first day"
   ]
  },
  {
   "cell_type": "markdown",
   "metadata": {},
   "source": [
    "## Story 8: Aurora Illinois Shooting"
   ]
  },
  {
   "cell_type": "code",
   "execution_count": 187,
   "metadata": {},
   "outputs": [],
   "source": [
    "# examining story 5\n",
    "f = open('new_algorithm/data/65/story_8/story_8_pt_1.json', encoding = 'UTF-8')\n",
    "story_8_1 = json.load(f)\n",
    "f.close()\n",
    "\n",
    "#don't need this one because the first part contiained the full story\n",
    "#f = open('new_algorithm/data/65/story_5/story_5_pt_2.json', encoding = 'UTF-8')\n",
    "#story_5_2 = json.load(f)\n",
    "#f.close()\n",
    "\n",
    "#load exemplar\n",
    "f = open('data/exemplar_dataset.json')\n",
    "exemplar = json.load(f)\n",
    "f.close()\n",
    "\n",
    "exemplar_links = exemplar[8]['links']\n",
    "\n",
    "story_8_cc = story_8_1['story_vectors'][0]['con_comps'] \n",
    "bot_graphs = getFormattedBotGraphs(story_8_cc)\n",
    "tp, fp, fn, failed_bots = defineConfusionMatrix(bot_graphs, exemplar_links, want_failed_bots = True)\n",
    "\n",
    "precision, recall, f1 = getScores(tp, fp, fn)\n",
    "\n",
    "story_dic = {'story_index': 8, 'precision': precision, 'recall': recall, 'f1': f1}\n",
    "saved_data.append(story_dic)"
   ]
  },
  {
   "cell_type": "code",
   "execution_count": 191,
   "metadata": {},
   "outputs": [],
   "source": [
    "saved_data[4]['story_index'] = 8"
   ]
  },
  {
   "cell_type": "code",
   "execution_count": 192,
   "metadata": {},
   "outputs": [
    {
     "data": {
      "text/plain": [
       "[{'story_index': 1,\n",
       "  'precision': 0.09919028340080972,\n",
       "  'recall': 1.0,\n",
       "  'f1': 0.18047882136279925},\n",
       " {'story_index': 2,\n",
       "  'precision': 0.14501510574018128,\n",
       "  'recall': 0.7868852459016393,\n",
       "  'f1': 0.2448979591836735},\n",
       " {'story_index': 3,\n",
       "  'precision': 0.3670557717250324,\n",
       "  'recall': 1.0,\n",
       "  'f1': 0.5370018975332068},\n",
       " {'story_index': 4,\n",
       "  'precision': 0.0913312693498452,\n",
       "  'recall': 1.0,\n",
       "  'f1': 0.16737588652482271},\n",
       " {'story_index': 8,\n",
       "  'precision': 0.43119266055045874,\n",
       "  'recall': 1.0,\n",
       "  'f1': 0.6025641025641025}]"
      ]
     },
     "execution_count": 192,
     "metadata": {},
     "output_type": "execute_result"
    }
   ],
   "source": [
    "saved_data"
   ]
  },
  {
   "cell_type": "markdown",
   "metadata": {},
   "source": [
    "## Story 9: AOC Town Hall"
   ]
  },
  {
   "cell_type": "code",
   "execution_count": 193,
   "metadata": {},
   "outputs": [],
   "source": [
    "f = open('new_algorithm/data/65/story_9/story_9.json', encoding = 'UTF-8')\n",
    "story_9_1 = json.load(f)\n",
    "f.close()\n",
    "\n",
    "f = open('data/exemplar_dataset.json')\n",
    "exemplar = json.load(f)\n",
    "f.close()\n",
    "\n",
    "exemplar_links = exemplar[9]['links']\n",
    "\n",
    "story_9_cc = story_9_1['story_vectors'][1]['con_comps'] \n",
    "bot_graphs = getFormattedBotGraphs(story_9_cc)\n",
    "tp, fp, fn, failed_bots = defineConfusionMatrix(bot_graphs, exemplar_links, want_failed_bots = True)\n",
    "\n",
    "precision, recall, f1 = getScores(tp, fp, fn)\n",
    "\n",
    "story_dic = {'story_index': 9, 'precision': precision, 'recall': recall, 'f1': f1}\n",
    "saved_data.append(story_dic)"
   ]
  },
  {
   "cell_type": "code",
   "execution_count": 194,
   "metadata": {},
   "outputs": [
    {
     "data": {
      "text/plain": [
       "{'story_index': 9,\n",
       " 'precision': 0.19402985074626866,\n",
       " 'recall': 0.7558139534883721,\n",
       " 'f1': 0.3087885985748218}"
      ]
     },
     "execution_count": 194,
     "metadata": {},
     "output_type": "execute_result"
    }
   ],
   "source": [
    "story_dic"
   ]
  },
  {
   "cell_type": "markdown",
   "metadata": {},
   "source": [
    "## Story 11: John Lewis Pancreatic Cancer"
   ]
  },
  {
   "cell_type": "code",
   "execution_count": 195,
   "metadata": {},
   "outputs": [],
   "source": [
    "f = open('new_algorithm/data/65/story_11/story_11_pt_1.json', encoding = 'UTF-8')\n",
    "story_11_1 = json.load(f)\n",
    "f.close()\n",
    "\n",
    "f = open('new_algorithm/data/65/story_11/story_11_pt_2.json', encoding = 'UTF-8')\n",
    "story_11_2 = json.load(f)\n",
    "f.close()\n",
    "\n",
    "f = open('data/exemplar_dataset.json')\n",
    "exemplar = json.load(f)\n",
    "f.close()\n",
    "\n",
    "exemplar_links = exemplar[11]['links']\n",
    "\n",
    "story_11_cc = story_11_1['story_vectors'][0]['con_comps'] + story_11_2['story_vectors'][2]['con_comps'] \n",
    "bot_graphs = getFormattedBotGraphs(story_11_cc)\n",
    "tp, fp, fn, failed_bots = defineConfusionMatrix(bot_graphs, exemplar_links, want_failed_bots = True)\n",
    "\n",
    "precision, recall, f1 = getScores(tp, fp, fn)\n",
    "\n",
    "story_dic = {'story_index': 11, 'precision': precision, 'recall': recall, 'f1': f1}\n",
    "saved_data.append(story_dic)"
   ]
  },
  {
   "cell_type": "code",
   "execution_count": 196,
   "metadata": {},
   "outputs": [
    {
     "data": {
      "text/plain": [
       "{'story_index': 11,\n",
       " 'precision': 0.11347517730496454,\n",
       " 'recall': 1.0,\n",
       " 'f1': 0.20382165605095542}"
      ]
     },
     "execution_count": 196,
     "metadata": {},
     "output_type": "execute_result"
    }
   ],
   "source": [
    "story_dic"
   ]
  },
  {
   "cell_type": "markdown",
   "metadata": {},
   "source": [
    "## Story 16: Trump Signs Covid Relief Bill"
   ]
  },
  {
   "cell_type": "code",
   "execution_count": 198,
   "metadata": {},
   "outputs": [],
   "source": [
    "f = open('new_algorithm/data/65/story_16/story_16_pt_1.json', encoding = 'UTF-8')\n",
    "story_16_1 = json.load(f)\n",
    "f.close()\n",
    "\n",
    "f = open('data/exemplar_dataset.json')\n",
    "exemplar = json.load(f)\n",
    "f.close()\n",
    "\n",
    "exemplar_links = exemplar[16]['links']\n",
    "\n",
    "story_16_cc = story_16_1['story_vectors'][1]['con_comps']\n",
    "bot_graphs = getFormattedBotGraphs(story_16_cc)\n",
    "tp, fp, fn, failed_bots = defineConfusionMatrix(bot_graphs, exemplar_links, want_failed_bots = True)\n",
    "\n",
    "precision, recall, f1 = getScores(tp, fp, fn)\n",
    "\n",
    "story_dic = {'story_index': 16, 'precision': precision, 'recall': recall, 'f1': f1}\n",
    "saved_data.append(story_dic)"
   ]
  },
  {
   "cell_type": "code",
   "execution_count": 199,
   "metadata": {},
   "outputs": [
    {
     "data": {
      "text/plain": [
       "{'story_index': 16,\n",
       " 'precision': 0.30094043887147337,\n",
       " 'recall': 0.8135593220338984,\n",
       " 'f1': 0.4393592677345538}"
      ]
     },
     "execution_count": 199,
     "metadata": {},
     "output_type": "execute_result"
    }
   ],
   "source": [
    "story_dic"
   ]
  },
  {
   "cell_type": "markdown",
   "metadata": {},
   "source": [
    "## Story 17: John Lewis Dies"
   ]
  },
  {
   "cell_type": "code",
   "execution_count": 200,
   "metadata": {},
   "outputs": [],
   "source": [
    "f = open('new_algorithm/data/65/story_17/story_17_pt_1.json', encoding = 'UTF-8')\n",
    "story_17_1 = json.load(f)\n",
    "f.close()\n",
    "\n",
    "f = open('new_algorithm/data/65/story_17/story_17_pt_2.json', encoding = 'UTF-8')\n",
    "story_17_2 = json.load(f)\n",
    "f.close()\n",
    "\n",
    "f = open('data/exemplar_dataset.json')\n",
    "exemplar = json.load(f)\n",
    "f.close()\n",
    "\n",
    "exemplar_links = exemplar[17]['links']\n",
    "\n",
    "story_17_cc = story_17_1['story_vectors'][3]['con_comps'] + story_17_2['story_vectors'][1]['con_comps']\n",
    "bot_graphs = getFormattedBotGraphs(story_17_cc)\n",
    "tp, fp, fn, failed_bots = defineConfusionMatrix(bot_graphs, exemplar_links, want_failed_bots = True)\n",
    "\n",
    "precision, recall, f1 = getScores(tp, fp, fn)\n",
    "\n",
    "story_dic = {'story_index': 17, 'precision': precision, 'recall': recall, 'f1': f1}\n",
    "saved_data.append(story_dic)"
   ]
  },
  {
   "cell_type": "code",
   "execution_count": 201,
   "metadata": {},
   "outputs": [
    {
     "data": {
      "text/plain": [
       "{'story_index': 17,\n",
       " 'precision': 0.6104294478527608,\n",
       " 'recall': 0.995,\n",
       " 'f1': 0.7566539923954373}"
      ]
     },
     "execution_count": 201,
     "metadata": {},
     "output_type": "execute_result"
    }
   ],
   "source": [
    "story_dic"
   ]
  },
  {
   "cell_type": "markdown",
   "metadata": {},
   "source": [
    "## Story 19: ASAP Rocky"
   ]
  },
  {
   "cell_type": "code",
   "execution_count": 202,
   "metadata": {},
   "outputs": [],
   "source": [
    "f = open('new_algorithm/data/65/story_19/story_19_pt_1.json', encoding = 'UTF-8')\n",
    "story_19_1 = json.load(f)\n",
    "f.close()\n",
    "\n",
    "f = open('data/exemplar_dataset.json')\n",
    "exemplar = json.load(f)\n",
    "f.close()\n",
    "\n",
    "exemplar_links = exemplar[19]['links']\n",
    "\n",
    "story_19_cc = story_19_1['story_vectors'][0]['con_comps']\n",
    "bot_graphs = getFormattedBotGraphs(story_19_cc)\n",
    "tp, fp, fn, failed_bots = defineConfusionMatrix(bot_graphs, exemplar_links, want_failed_bots = True)\n",
    "\n",
    "precision, recall, f1 = getScores(tp, fp, fn)\n",
    "\n",
    "story_dic = {'story_index': 19, 'precision': precision, 'recall': recall, 'f1': f1}\n",
    "saved_data.append(story_dic)"
   ]
  },
  {
   "cell_type": "code",
   "execution_count": 203,
   "metadata": {},
   "outputs": [
    {
     "data": {
      "text/plain": [
       "{'story_index': 19,\n",
       " 'precision': 0.10284463894967177,\n",
       " 'recall': 1.0,\n",
       " 'f1': 0.1865079365079365}"
      ]
     },
     "execution_count": 203,
     "metadata": {},
     "output_type": "execute_result"
    }
   ],
   "source": [
    "story_dic"
   ]
  },
  {
   "cell_type": "code",
   "execution_count": 204,
   "metadata": {},
   "outputs": [
    {
     "data": {
      "text/plain": [
       "[{'story_index': 1,\n",
       "  'precision': 0.09919028340080972,\n",
       "  'recall': 1.0,\n",
       "  'f1': 0.18047882136279925},\n",
       " {'story_index': 2,\n",
       "  'precision': 0.14501510574018128,\n",
       "  'recall': 0.7868852459016393,\n",
       "  'f1': 0.2448979591836735},\n",
       " {'story_index': 3,\n",
       "  'precision': 0.3670557717250324,\n",
       "  'recall': 1.0,\n",
       "  'f1': 0.5370018975332068},\n",
       " {'story_index': 4,\n",
       "  'precision': 0.0913312693498452,\n",
       "  'recall': 1.0,\n",
       "  'f1': 0.16737588652482271},\n",
       " {'story_index': 8,\n",
       "  'precision': 0.43119266055045874,\n",
       "  'recall': 1.0,\n",
       "  'f1': 0.6025641025641025},\n",
       " {'story_index': 9,\n",
       "  'precision': 0.19402985074626866,\n",
       "  'recall': 0.7558139534883721,\n",
       "  'f1': 0.3087885985748218},\n",
       " {'story_index': 11,\n",
       "  'precision': 0.11347517730496454,\n",
       "  'recall': 1.0,\n",
       "  'f1': 0.20382165605095542},\n",
       " {'story_index': 16,\n",
       "  'precision': 0.30094043887147337,\n",
       "  'recall': 0.8135593220338984,\n",
       "  'f1': 0.4393592677345538},\n",
       " {'story_index': 17,\n",
       "  'precision': 0.6104294478527608,\n",
       "  'recall': 0.995,\n",
       "  'f1': 0.7566539923954373},\n",
       " {'story_index': 19,\n",
       "  'precision': 0.10284463894967177,\n",
       "  'recall': 1.0,\n",
       "  'f1': 0.1865079365079365}]"
      ]
     },
     "execution_count": 204,
     "metadata": {},
     "output_type": "execute_result"
    }
   ],
   "source": [
    "saved_data"
   ]
  },
  {
   "cell_type": "code",
   "execution_count": 205,
   "metadata": {},
   "outputs": [],
   "source": [
    "data = pd.DataFrame.from_dict(saved_data)"
   ]
  },
  {
   "cell_type": "code",
   "execution_count": 209,
   "metadata": {},
   "outputs": [],
   "source": [
    "data.to_csv('new_algorithm/data/65/saved_results.csv')"
   ]
  },
  {
   "cell_type": "code",
   "execution_count": 211,
   "metadata": {},
   "outputs": [
    {
     "data": {
      "text/plain": [
       "<AxesSubplot:>"
      ]
     },
     "execution_count": 211,
     "metadata": {},
     "output_type": "execute_result"
    },
    {
     "data": {
      "image/png": "[encoded data removed]",
      "text/plain": [
       "<Figure size 432x288 with 1 Axes>"
      ]
     },
     "metadata": {
      "needs_background": "light"
     },
     "output_type": "display_data"
    }
   ],
   "source": [
    "data['precision'].plot(kind = 'bar')"
   ]
  },
  {
   "cell_type": "code",
   "execution_count": 212,
   "metadata": {},
   "outputs": [
    {
     "data": {
      "text/plain": [
       "<AxesSubplot:>"
      ]
     },
     "execution_count": 212,
     "metadata": {},
     "output_type": "execute_result"
    },
    {
     "data": {
      "image/png": "[encoded data removed]",
      "text/plain": [
       "<Figure size 432x288 with 1 Axes>"
      ]
     },
     "metadata": {
      "needs_background": "light"
     },
     "output_type": "display_data"
    }
   ],
   "source": [
    "data['recall'].plot(kind = 'bar')"
   ]
  },
  {
   "cell_type": "code",
   "execution_count": 213,
   "metadata": {},
   "outputs": [
    {
     "data": {
      "text/plain": [
       "<AxesSubplot:>"
      ]
     },
     "execution_count": 213,
     "metadata": {},
     "output_type": "execute_result"
    },
    {
     "data": {
      "image/png": "[encoded data removed]",
      "text/plain": [
       "<Figure size 432x288 with 1 Axes>"
      ]
     },
     "metadata": {
      "needs_background": "light"
     },
     "output_type": "display_data"
    }
   ],
   "source": [
    "data['f1'].plot(kind = 'bar')"
   ]
  }
 ],
 "metadata": {
  "kernelspec": {
   "display_name": "Python 3 (ipykernel)",
   "language": "python",
   "name": "python3"
  },
  "language_info": {
   "codemirror_mode": {
    "name": "ipython",
    "version": 3
   },
   "file_extension": ".py",
   "mimetype": "text/x-python",
   "name": "python",
   "nbconvert_exporter": "python",
   "pygments_lexer": "ipython3",
   "version": "3.10.9"
  }
 },
 "nbformat": 4,
 "nbformat_minor": 4
}
